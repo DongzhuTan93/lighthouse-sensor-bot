{
 "cells": [
  {
   "cell_type": "code",
   "execution_count": 17,
   "id": "80539ece-3e3e-4fd4-b63d-7527b91cdd8c",
   "metadata": {},
   "outputs": [],
   "source": [
    "import pandas as pd\n",
    "import matplotlib.pyplot as plt\n",
    "import seaborn as sns"
   ]
  },
  {
   "cell_type": "code",
   "execution_count": 26,
   "id": "122e5acf-be44-48b6-9639-3457c96ff52b",
   "metadata": {},
   "outputs": [
    {
     "name": "stdout",
     "output_type": "stream",
     "text": [
      "<class 'pandas.core.frame.DataFrame'>\n",
      "RangeIndex: 69358 entries, 0 to 69357\n",
      "Data columns (total 38 columns):\n",
      " #   Column                                         Non-Null Count  Dtype  \n",
      "---  ------                                         --------------  -----  \n",
      " 0   route_id                                       69358 non-null  int64  \n",
      " 1   route_name                                     69358 non-null  object \n",
      " 2   ferry_name                                     69358 non-null  object \n",
      " 3   ferry_id                                       69358 non-null  int64  \n",
      " 4   terminal_departure                             69358 non-null  object \n",
      " 5   terminal_arrival                               69358 non-null  object \n",
      " 6   time_departure                                 69358 non-null  object \n",
      " 7   cars_outbound                                  69358 non-null  int64  \n",
      " 8   trucks_outbound                                69358 non-null  int64  \n",
      " 9   trucks_with_trailer_outbound                   69358 non-null  int64  \n",
      " 10  motorcycles_outbound                           69358 non-null  int64  \n",
      " 11  exemption_vehicles_outbound                    69358 non-null  int64  \n",
      " 12  pedestrians_outbound                           69358 non-null  int64  \n",
      " 13  buses_outbound                                 69358 non-null  int64  \n",
      " 14  vehicles_left_at_terminal_outbound             69358 non-null  int64  \n",
      " 15  cars_inbound                                   69358 non-null  int64  \n",
      " 16  trucks_inbound                                 69358 non-null  int64  \n",
      " 17  trucks_with_trailer_inbound                    69358 non-null  int64  \n",
      " 18  motorcycles_inbound                            69358 non-null  int64  \n",
      " 19  exemption_vehicles_inbound                     69358 non-null  int64  \n",
      " 20  pedestrians_inbound                            69358 non-null  int64  \n",
      " 21  buses_inbound                                  69358 non-null  int64  \n",
      " 22  vehicles_left_at_terminal_inbound              69358 non-null  int64  \n",
      " 23  trip_type                                      69358 non-null  object \n",
      " 24  passenger_car_equivalent_outbound_and_inbound  69358 non-null  float64\n",
      " 25  tailored_trip                                  69358 non-null  int64  \n",
      " 26  full_ferry_outbound                            69358 non-null  int64  \n",
      " 27  full_ferry_inbound                             69358 non-null  int64  \n",
      " 28  passenger_car_equivalent_outbound              69358 non-null  float64\n",
      " 29  passenger_car_equivalent_inbound               69358 non-null  float64\n",
      " 30  fuelcons_outbound_l                            42376 non-null  float64\n",
      " 31  distance_outbound_nm                           45568 non-null  float64\n",
      " 32  start_time_outbound                            45568 non-null  object \n",
      " 33  end_time_outbound                              45568 non-null  object \n",
      " 34  fuelcons_inbound_l                             42367 non-null  float64\n",
      " 35  distance_inbound_nm                            45568 non-null  float64\n",
      " 36  start_time_inbound                             45568 non-null  object \n",
      " 37  end_time_inbound                               45568 non-null  object \n",
      "dtypes: float64(7), int64(21), object(10)\n",
      "memory usage: 20.1+ MB\n"
     ]
    }
   ],
   "source": [
    "# Load the ferry trips data\n",
    "ferry_data = pd.read_csv('data/ferry_trips_data_large.csv')\n",
    "\n",
    "# Display the first few rows to understand the structure\n",
    "ferry_data.head()\n",
    "# Summary of the dataset\n",
    "ferry_data.info()"
   ]
  },
  {
   "cell_type": "markdown",
   "id": "57ce313c-8583-431f-91ec-85f748229a89",
   "metadata": {},
   "source": [
    "## Q1 What is the total fuel cost for ferry Jupiter in January 2024 assuming that the price per liter is 20 sek?"
   ]
  },
  {
   "cell_type": "code",
   "execution_count": 19,
   "id": "a9d4e4b0-3f93-46e6-ad74-abc0d1510cc9",
   "metadata": {},
   "outputs": [
    {
     "name": "stdout",
     "output_type": "stream",
     "text": [
      "Total fuel consumption for ferry Jupiter in January 2024: 12709.34 liters\n",
      "Total fuel cost for ferry Jupiter in January 2024: 254186.70 SEK\n"
     ]
    }
   ],
   "source": [
    "# Convert 'time_departure' to datetime objects for filtering\n",
    "ferry_data['time_departure'] = pd.to_datetime(ferry_data['time_departure'])\n",
    "\n",
    "# Filter data for ferry 'Jupiter' and January 2024\n",
    "jupiter_jan_data = ferry_data[\n",
    "    (ferry_data['ferry_name'] == 'Jupiter') &\n",
    "    (ferry_data['time_departure'].dt.month == 1) &\n",
    "    (ferry_data['time_departure'].dt.year == 2024)\n",
    "]\n",
    "\n",
    "# Calculate total fuel consumption (handling potential NaNs by filling with 0)\n",
    "total_fuel_consumption = (\n",
    "    jupiter_jan_data['fuelcons_outbound_l'].fillna(0).sum() +\n",
    "    jupiter_jan_data['fuelcons_inbound_l'].fillna(0).sum()\n",
    ")\n",
    "\n",
    "# Assuming a fuel cost per liter (you might need to adjust this)\n",
    "# Let's assume a fuel cost of 10 SEK per liter for example purposes\n",
    "fuel_cost_per_liter = 20\n",
    "\n",
    "# Calculate the total fuel cost\n",
    "total_fuel_cost = total_fuel_consumption * fuel_cost_per_liter\n",
    "\n",
    "print(f\"Total fuel consumption for ferry Jupiter in January 2024: {total_fuel_consumption:.2f} liters\")\n",
    "print(f\"Total fuel cost for ferry Jupiter in January 2024: {total_fuel_cost:.2f} SEK\")"
   ]
  },
  {
   "cell_type": "markdown",
   "id": "5ec91ff1-14b7-4a8e-809a-fa5a3d2c14f1",
   "metadata": {},
   "source": [
    "## Q2 What is the average speed of ferry Jupiter? (in km/h)\n"
   ]
  },
  {
   "cell_type": "code",
   "execution_count": 20,
   "id": "1ece2c14-bb41-43b0-a5aa-4c0938fd1b51",
   "metadata": {},
   "outputs": [
    {
     "name": "stdout",
     "output_type": "stream",
     "text": [
      "The average speed of ferry Jupiter is: 6.23 knots\n",
      "Average speed in km/h: 11.55 km/h\n",
      "Average speed in mph: 7.17 mph\n"
     ]
    }
   ],
   "source": [
    "# Convert time columns to datetime objects\n",
    "ferry_data['start_time_outbound'] = pd.to_datetime(ferry_data['start_time_outbound'])\n",
    "ferry_data['end_time_outbound'] = pd.to_datetime(ferry_data['end_time_outbound'])\n",
    "ferry_data['start_time_inbound'] = pd.to_datetime(ferry_data['start_time_inbound'])\n",
    "ferry_data['end_time_inbound'] = pd.to_datetime(ferry_data['end_time_inbound'])\n",
    "\n",
    "# Filter data for ferry 'Jupiter'\n",
    "jupiter_data = ferry_data[ferry_data['ferry_name'] == 'Jupiter'].copy()\n",
    "\n",
    "# Function to calculate trip duration in hours, handling potential NaNs\n",
    "def calculate_duration(start_time, end_time):\n",
    "    if pd.notna(start_time) and pd.notna(end_time):\n",
    "        duration = (end_time - start_time).total_seconds() / 3600\n",
    "        return duration\n",
    "    return None\n",
    "\n",
    "# Apply the function to calculate outbound and inbound durations\n",
    "jupiter_data['duration_outbound'] = jupiter_data.apply(\n",
    "    lambda row: calculate_duration(row['start_time_outbound'], row['end_time_outbound']), axis=1\n",
    ")\n",
    "jupiter_data['duration_inbound'] = jupiter_data.apply(\n",
    "    lambda row: calculate_duration(row['start_time_inbound'], row['end_time_inbound']), axis=1\n",
    ")\n",
    "\n",
    "# Calculate average speed for outbound trips (distance in nautical miles, duration in hours)\n",
    "jupiter_data['speed_outbound_knots'] = jupiter_data.apply(\n",
    "    lambda row: row['distance_outbound_nm'] / row['duration_outbound']\n",
    "    if row['duration_outbound'] else None,\n",
    "    axis=1\n",
    ")\n",
    "\n",
    "# Calculate average speed for inbound trips\n",
    "jupiter_data['speed_inbound_knots'] = jupiter_data.apply(\n",
    "    lambda row: row['distance_inbound_nm'] / row['duration_inbound']\n",
    "    if row['duration_inbound'] else None,\n",
    "    axis=1\n",
    ")\n",
    "\n",
    "# Calculate the average of all valid speed values\n",
    "valid_speeds = pd.concat([jupiter_data['speed_outbound_knots'].dropna(), jupiter_data['speed_inbound_knots'].dropna()])\n",
    "\n",
    "if not valid_speeds.empty:\n",
    "    average_speed_knots = valid_speeds.mean()\n",
    "    print(f\"The average speed of ferry Jupiter is: {average_speed_knots:.2f} knots\")\n",
    "\n",
    "    # Convert knots to km/h and mph for better understanding\n",
    "    average_speed_kmh = average_speed_knots * 1.852\n",
    "    average_speed_mph = average_speed_knots * 1.15078\n",
    "    print(f\"Average speed in km/h: {average_speed_kmh:.2f} km/h\")\n",
    "    print(f\"Average speed in mph: {average_speed_mph:.2f} mph\")\n",
    "else:\n",
    "    print(\"Could not calculate the average speed for ferry Jupiter due to missing distance or time information.\")"
   ]
  },
  {
   "cell_type": "markdown",
   "id": "392a5b8d-478e-4883-ac26-9c39ca7b7fc1",
   "metadata": {},
   "source": [
    "## Q3 How many vehicles left at the terminal are there in total? "
   ]
  },
  {
   "cell_type": "code",
   "execution_count": 27,
   "id": "35c64a3e-970e-42e2-8061-f5a888180f78",
   "metadata": {},
   "outputs": [
    {
     "name": "stdout",
     "output_type": "stream",
     "text": [
      "Total vehicles left: 44748\n",
      "vehicles_left_at_terminal_outbound    0.318175\n",
      "vehicles_left_at_terminal_inbound     0.326999\n",
      "dtype: float64\n"
     ]
    }
   ],
   "source": [
    "# Total vehicles left at the terminal\n",
    "vehicles_left_total = ferry_data['vehicles_left_at_terminal_outbound'].sum() + ferry_data['vehicles_left_at_terminal_inbound'].sum()\n",
    "\n",
    "# Average vehicles left at terminal per trip\n",
    "vehicles_left_avg = ferry_data[['vehicles_left_at_terminal_outbound', 'vehicles_left_at_terminal_inbound']].mean()\n",
    "\n",
    "print(f\"Total vehicles left: {vehicles_left_total}\")\n",
    "print(vehicles_left_avg)"
   ]
  },
  {
   "cell_type": "markdown",
   "id": "aac64f11-ad2b-43fb-b684-2bd158b0a93b",
   "metadata": {},
   "source": [
    "## Q4 How many vehicles on average are left at the terminal per trip for ferry Jupiter during summer months?"
   ]
  },
  {
   "cell_type": "code",
   "execution_count": 29,
   "id": "b95270a0-190f-4e58-beab-e204f5d12299",
   "metadata": {},
   "outputs": [
    {
     "name": "stdout",
     "output_type": "stream",
     "text": [
      "Total vehicles left at the terminal for ferry Jupiter during summer: 199263\n",
      "Average amount of vehicles left at the terminal per trip for ferry Jupiter during summer: 43.21\n"
     ]
    }
   ],
   "source": [
    "# Convert 'time_departure' to datetime objects for filtering\n",
    "ferry_data['time_departure'] = pd.to_datetime(ferry_data['time_departure'], errors='coerce')\n",
    "\n",
    "# Filter data for ferry 'Jupiter'\n",
    "jupiter_data = ferry_data[ferry_data['ferry_name'] == 'Jupiter'].copy()\n",
    "\n",
    "# Define summer months (June, July, August)\n",
    "summer_months = [6, 7, 8]\n",
    "\n",
    "# Filter Jupiter data for summer months, handling potential NaT values\n",
    "jupiter_summer_data = jupiter_data[\n",
    "    jupiter_data['time_departure'].notna() &\n",
    "    jupiter_data['time_departure'].dt.month.isin(summer_months)\n",
    "]\n",
    "\n",
    "# Calculate the total vehicles left at the terminal during summer for Jupiter\n",
    "# Assuming the columns for vehicles left are:\n",
    "vehicles_left_cols = ['cars_outbound', 'trucks_outbound', 'trucks_with_trailer_outbound',\n",
    "                      'cars_inbound', 'trucks_inbound', 'trucks_with_trailer_inbound']\n",
    "\n",
    "total_left_summer_jupiter = jupiter_summer_data[vehicles_left_cols].fillna(0).sum().sum()\n",
    "\n",
    "# Calculate the total number of trips made by Jupiter during the summer\n",
    "total_trips_summer_jupiter = len(jupiter_summer_data)\n",
    "\n",
    "# Calculate the average amount of vehicles left per trip for Jupiter during summer\n",
    "average_left_summer_jupiter = total_left_summer_jupiter / total_trips_summer_jupiter if total_trips_summer_jupiter > 0 else 0\n",
    "\n",
    "print(f\"Total vehicles left at the terminal for ferry Jupiter during summer: {total_left_summer_jupiter}\")\n",
    "print(f\"Average amount of vehicles left at the terminal per trip for ferry Jupiter during summer: {average_left_summer_jupiter:.2f}\")\n"
   ]
  },
  {
   "cell_type": "code",
   "execution_count": null,
   "id": "d4604e0a-fa4a-4b78-ad78-55b6fa59c74a",
   "metadata": {},
   "outputs": [],
   "source": []
  }
 ],
 "metadata": {
  "kernelspec": {
   "display_name": "venv",
   "language": "python",
   "name": "venv"
  },
  "language_info": {
   "codemirror_mode": {
    "name": "ipython",
    "version": 3
   },
   "file_extension": ".py",
   "mimetype": "text/x-python",
   "name": "python",
   "nbconvert_exporter": "python",
   "pygments_lexer": "ipython3",
   "version": "3.9.6"
  }
 },
 "nbformat": 4,
 "nbformat_minor": 5
}
