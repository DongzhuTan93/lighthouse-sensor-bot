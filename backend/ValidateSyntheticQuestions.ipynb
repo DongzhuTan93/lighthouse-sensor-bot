{
 "cells": [
  {
   "cell_type": "code",
   "execution_count": 3,
   "id": "80539ece-3e3e-4fd4-b63d-7527b91cdd8c",
   "metadata": {},
   "outputs": [],
   "source": [
    "import pandas as pd\n",
    "import matplotlib.pyplot as plt\n",
    "import seaborn as sns"
   ]
  },
  {
   "cell_type": "code",
   "execution_count": 4,
   "id": "122e5acf-be44-48b6-9639-3457c96ff52b",
   "metadata": {},
   "outputs": [
    {
     "name": "stdout",
     "output_type": "stream",
     "text": [
      "<class 'pandas.core.frame.DataFrame'>\n",
      "RangeIndex: 69358 entries, 0 to 69357\n",
      "Data columns (total 38 columns):\n",
      " #   Column                                         Non-Null Count  Dtype  \n",
      "---  ------                                         --------------  -----  \n",
      " 0   route_id                                       69358 non-null  int64  \n",
      " 1   route_name                                     69358 non-null  object \n",
      " 2   ferry_name                                     69358 non-null  object \n",
      " 3   ferry_id                                       69358 non-null  int64  \n",
      " 4   terminal_departure                             69358 non-null  object \n",
      " 5   terminal_arrival                               69358 non-null  object \n",
      " 6   time_departure                                 69358 non-null  object \n",
      " 7   cars_outbound                                  69358 non-null  int64  \n",
      " 8   trucks_outbound                                69358 non-null  int64  \n",
      " 9   trucks_with_trailer_outbound                   69358 non-null  int64  \n",
      " 10  motorcycles_outbound                           69358 non-null  int64  \n",
      " 11  exemption_vehicles_outbound                    69358 non-null  int64  \n",
      " 12  pedestrians_outbound                           69358 non-null  int64  \n",
      " 13  buses_outbound                                 69358 non-null  int64  \n",
      " 14  vehicles_left_at_terminal_outbound             69358 non-null  int64  \n",
      " 15  cars_inbound                                   69358 non-null  int64  \n",
      " 16  trucks_inbound                                 69358 non-null  int64  \n",
      " 17  trucks_with_trailer_inbound                    69358 non-null  int64  \n",
      " 18  motorcycles_inbound                            69358 non-null  int64  \n",
      " 19  exemption_vehicles_inbound                     69358 non-null  int64  \n",
      " 20  pedestrians_inbound                            69358 non-null  int64  \n",
      " 21  buses_inbound                                  69358 non-null  int64  \n",
      " 22  vehicles_left_at_terminal_inbound              69358 non-null  int64  \n",
      " 23  trip_type                                      69358 non-null  object \n",
      " 24  passenger_car_equivalent_outbound_and_inbound  69358 non-null  float64\n",
      " 25  tailored_trip                                  69358 non-null  int64  \n",
      " 26  full_ferry_outbound                            69358 non-null  int64  \n",
      " 27  full_ferry_inbound                             69358 non-null  int64  \n",
      " 28  passenger_car_equivalent_outbound              69358 non-null  float64\n",
      " 29  passenger_car_equivalent_inbound               69358 non-null  float64\n",
      " 30  fuelcons_outbound_l                            42376 non-null  float64\n",
      " 31  distance_outbound_nm                           45568 non-null  float64\n",
      " 32  start_time_outbound                            45568 non-null  object \n",
      " 33  end_time_outbound                              45568 non-null  object \n",
      " 34  fuelcons_inbound_l                             42367 non-null  float64\n",
      " 35  distance_inbound_nm                            45568 non-null  float64\n",
      " 36  start_time_inbound                             45568 non-null  object \n",
      " 37  end_time_inbound                               45568 non-null  object \n",
      "dtypes: float64(7), int64(21), object(10)\n",
      "memory usage: 20.1+ MB\n"
     ]
    }
   ],
   "source": [
    "# Load the ferry trips data\n",
    "ferry_data = pd.read_csv('data/ferry_trips_data_large.csv')\n",
    "\n",
    "# Display the first few rows to understand the structure\n",
    "ferry_data.head()\n",
    "# Summary of the dataset\n",
    "ferry_data.info()"
   ]
  },
  {
   "cell_type": "markdown",
   "id": "57ce313c-8583-431f-91ec-85f748229a89",
   "metadata": {},
   "source": [
    "## Q1 What is the total fuel cost for ferry Jupiter in January 2024 assuming that the price per liter is 20 sek?"
   ]
  },
  {
   "cell_type": "code",
   "execution_count": 19,
   "id": "a9d4e4b0-3f93-46e6-ad74-abc0d1510cc9",
   "metadata": {},
   "outputs": [
    {
     "name": "stdout",
     "output_type": "stream",
     "text": [
      "Total fuel consumption for ferry Jupiter in January 2024: 12709.34 liters\n",
      "Total fuel cost for ferry Jupiter in January 2024: 254186.70 SEK\n"
     ]
    }
   ],
   "source": [
    "# Convert 'time_departure' to datetime objects for filtering\n",
    "ferry_data['time_departure'] = pd.to_datetime(ferry_data['time_departure'])\n",
    "\n",
    "# Filter data for ferry 'Jupiter' and January 2024\n",
    "jupiter_jan_data = ferry_data[\n",
    "    (ferry_data['ferry_name'] == 'Jupiter') &\n",
    "    (ferry_data['time_departure'].dt.month == 1) &\n",
    "    (ferry_data['time_departure'].dt.year == 2024)\n",
    "]\n",
    "\n",
    "# Calculate total fuel consumption (handling potential NaNs by filling with 0)\n",
    "total_fuel_consumption = (\n",
    "    jupiter_jan_data['fuelcons_outbound_l'].fillna(0).sum() +\n",
    "    jupiter_jan_data['fuelcons_inbound_l'].fillna(0).sum()\n",
    ")\n",
    "\n",
    "# Assuming a fuel cost per liter (you might need to adjust this)\n",
    "# Let's assume a fuel cost of 10 SEK per liter for example purposes\n",
    "fuel_cost_per_liter = 20\n",
    "\n",
    "# Calculate the total fuel cost\n",
    "total_fuel_cost = total_fuel_consumption * fuel_cost_per_liter\n",
    "\n",
    "print(f\"Total fuel consumption for ferry Jupiter in January 2024: {total_fuel_consumption:.2f} liters\")\n",
    "print(f\"Total fuel cost for ferry Jupiter in January 2024: {total_fuel_cost:.2f} SEK\")"
   ]
  },
  {
   "cell_type": "markdown",
   "id": "5ec91ff1-14b7-4a8e-809a-fa5a3d2c14f1",
   "metadata": {},
   "source": [
    "## Q2 What is the average speed of ferry Jupiter? (in km/h)\n"
   ]
  },
  {
   "cell_type": "code",
   "execution_count": 20,
   "id": "1ece2c14-bb41-43b0-a5aa-4c0938fd1b51",
   "metadata": {},
   "outputs": [
    {
     "name": "stdout",
     "output_type": "stream",
     "text": [
      "The average speed of ferry Jupiter is: 6.23 knots\n",
      "Average speed in km/h: 11.55 km/h\n",
      "Average speed in mph: 7.17 mph\n"
     ]
    }
   ],
   "source": [
    "# Convert time columns to datetime objects\n",
    "ferry_data['start_time_outbound'] = pd.to_datetime(ferry_data['start_time_outbound'])\n",
    "ferry_data['end_time_outbound'] = pd.to_datetime(ferry_data['end_time_outbound'])\n",
    "ferry_data['start_time_inbound'] = pd.to_datetime(ferry_data['start_time_inbound'])\n",
    "ferry_data['end_time_inbound'] = pd.to_datetime(ferry_data['end_time_inbound'])\n",
    "\n",
    "# Filter data for ferry 'Jupiter'\n",
    "jupiter_data = ferry_data[ferry_data['ferry_name'] == 'Jupiter'].copy()\n",
    "\n",
    "# Function to calculate trip duration in hours, handling potential NaNs\n",
    "def calculate_duration(start_time, end_time):\n",
    "    if pd.notna(start_time) and pd.notna(end_time):\n",
    "        duration = (end_time - start_time).total_seconds() / 3600\n",
    "        return duration\n",
    "    return None\n",
    "\n",
    "# Apply the function to calculate outbound and inbound durations\n",
    "jupiter_data['duration_outbound'] = jupiter_data.apply(\n",
    "    lambda row: calculate_duration(row['start_time_outbound'], row['end_time_outbound']), axis=1\n",
    ")\n",
    "jupiter_data['duration_inbound'] = jupiter_data.apply(\n",
    "    lambda row: calculate_duration(row['start_time_inbound'], row['end_time_inbound']), axis=1\n",
    ")\n",
    "\n",
    "# Calculate average speed for outbound trips (distance in nautical miles, duration in hours)\n",
    "jupiter_data['speed_outbound_knots'] = jupiter_data.apply(\n",
    "    lambda row: row['distance_outbound_nm'] / row['duration_outbound']\n",
    "    if row['duration_outbound'] else None,\n",
    "    axis=1\n",
    ")\n",
    "\n",
    "# Calculate average speed for inbound trips\n",
    "jupiter_data['speed_inbound_knots'] = jupiter_data.apply(\n",
    "    lambda row: row['distance_inbound_nm'] / row['duration_inbound']\n",
    "    if row['duration_inbound'] else None,\n",
    "    axis=1\n",
    ")\n",
    "\n",
    "# Calculate the average of all valid speed values\n",
    "valid_speeds = pd.concat([jupiter_data['speed_outbound_knots'].dropna(), jupiter_data['speed_inbound_knots'].dropna()])\n",
    "\n",
    "if not valid_speeds.empty:\n",
    "    average_speed_knots = valid_speeds.mean()\n",
    "    print(f\"The average speed of ferry Jupiter is: {average_speed_knots:.2f} knots\")\n",
    "\n",
    "    # Convert knots to km/h and mph for better understanding\n",
    "    average_speed_kmh = average_speed_knots * 1.852\n",
    "    average_speed_mph = average_speed_knots * 1.15078\n",
    "    print(f\"Average speed in km/h: {average_speed_kmh:.2f} km/h\")\n",
    "    print(f\"Average speed in mph: {average_speed_mph:.2f} mph\")\n",
    "else:\n",
    "    print(\"Could not calculate the average speed for ferry Jupiter due to missing distance or time information.\")"
   ]
  },
  {
   "cell_type": "markdown",
   "id": "392a5b8d-478e-4883-ac26-9c39ca7b7fc1",
   "metadata": {},
   "source": [
    "## Q3 How many vehicles left at the terminal are there in total? "
   ]
  },
  {
   "cell_type": "code",
   "execution_count": 27,
   "id": "35c64a3e-970e-42e2-8061-f5a888180f78",
   "metadata": {},
   "outputs": [
    {
     "name": "stdout",
     "output_type": "stream",
     "text": [
      "Total vehicles left: 44748\n",
      "vehicles_left_at_terminal_outbound    0.318175\n",
      "vehicles_left_at_terminal_inbound     0.326999\n",
      "dtype: float64\n"
     ]
    }
   ],
   "source": [
    "# Total vehicles left at the terminal\n",
    "vehicles_left_total = ferry_data['vehicles_left_at_terminal_outbound'].sum() + ferry_data['vehicles_left_at_terminal_inbound'].sum()\n",
    "\n",
    "# Average vehicles left at terminal per trip\n",
    "vehicles_left_avg = ferry_data[['vehicles_left_at_terminal_outbound', 'vehicles_left_at_terminal_inbound']].mean()\n",
    "\n",
    "print(f\"Total vehicles left: {vehicles_left_total}\")\n",
    "print(vehicles_left_avg)"
   ]
  },
  {
   "cell_type": "markdown",
   "id": "aac64f11-ad2b-43fb-b684-2bd158b0a93b",
   "metadata": {},
   "source": [
    "## Q4 How many vehicles on average are left at the terminal per trip for ferry Jupiter during summer months?"
   ]
  },
  {
   "cell_type": "code",
   "execution_count": 29,
   "id": "b95270a0-190f-4e58-beab-e204f5d12299",
   "metadata": {},
   "outputs": [
    {
     "name": "stdout",
     "output_type": "stream",
     "text": [
      "Total vehicles left at the terminal for ferry Jupiter during summer: 199263\n",
      "Average amount of vehicles left at the terminal per trip for ferry Jupiter during summer: 43.21\n"
     ]
    }
   ],
   "source": [
    "# Convert 'time_departure' to datetime objects for filtering\n",
    "ferry_data['time_departure'] = pd.to_datetime(ferry_data['time_departure'], errors='coerce')\n",
    "\n",
    "# Filter data for ferry 'Jupiter'\n",
    "jupiter_data = ferry_data[ferry_data['ferry_name'] == 'Jupiter'].copy()\n",
    "\n",
    "# Define summer months (June, July, August)\n",
    "summer_months = [6, 7, 8]\n",
    "\n",
    "# Filter Jupiter data for summer months, handling potential NaT values\n",
    "jupiter_summer_data = jupiter_data[\n",
    "    jupiter_data['time_departure'].notna() &\n",
    "    jupiter_data['time_departure'].dt.month.isin(summer_months)\n",
    "]\n",
    "\n",
    "# Calculate the total vehicles left at the terminal during summer for Jupiter\n",
    "# Assuming the columns for vehicles left are:\n",
    "vehicles_left_cols = ['cars_outbound', 'trucks_outbound', 'trucks_with_trailer_outbound',\n",
    "                      'cars_inbound', 'trucks_inbound', 'trucks_with_trailer_inbound']\n",
    "\n",
    "total_left_summer_jupiter = jupiter_summer_data[vehicles_left_cols].fillna(0).sum().sum()\n",
    "\n",
    "# Calculate the total number of trips made by Jupiter during the summer\n",
    "total_trips_summer_jupiter = len(jupiter_summer_data)\n",
    "\n",
    "# Calculate the average amount of vehicles left per trip for Jupiter during summer\n",
    "average_left_summer_jupiter = total_left_summer_jupiter / total_trips_summer_jupiter if total_trips_summer_jupiter > 0 else 0\n",
    "\n",
    "print(f\"Total vehicles left at the terminal for ferry Jupiter during summer: {total_left_summer_jupiter}\")\n",
    "print(f\"Average amount of vehicles left at the terminal per trip for ferry Jupiter during summer: {average_left_summer_jupiter:.2f}\")\n"
   ]
  },
  {
   "cell_type": "markdown",
   "id": "c70a7f1a-d7bf-4a23-aa6f-ee836cd69f14",
   "metadata": {},
   "source": [
    "## Q5 Which route has the highest average distance travelled, considering both outbound and inbound directions?"
   ]
  },
  {
   "cell_type": "code",
   "execution_count": 8,
   "id": "aeb116b2-a9ed-41a7-9331-ca84f42052dd",
   "metadata": {},
   "outputs": [
    {
     "name": "stdout",
     "output_type": "stream",
     "text": [
      "Correct answer\n",
      "The route with the highest average distance travelled is: Aspöleden with an average distance of 3.22 NM.\n",
      "Relevant context\n",
      "       route_name ferry_name             direction  average_distance_nm_leg\n",
      "0       Aspöleden      Yxlan  distance_outbound_nm                 3.212223\n",
      "1  Furusundsleden  Merkurius  distance_outbound_nm                 0.235259\n",
      "2   Ljusteröleden    Jupiter  distance_outbound_nm                 0.569472\n",
      "3    Oxdjupsleden  Fragancia  distance_outbound_nm                 0.250244\n",
      "4   Vaxholmsleden       Nina  distance_outbound_nm                 0.488404\n",
      "5       Aspöleden      Yxlan   distance_inbound_nm                 3.230830\n",
      "6  Furusundsleden  Merkurius   distance_inbound_nm                 0.234637\n",
      "7   Ljusteröleden    Jupiter   distance_inbound_nm                 0.567139\n",
      "8    Oxdjupsleden  Fragancia   distance_inbound_nm                 0.247365\n",
      "9   Vaxholmsleden       Nina   distance_inbound_nm                 0.487763\n"
     ]
    },
    {
     "data": {
      "image/png": "[encoded data removed]",
      "text/plain": [
       "<Figure size 1600x800 with 1 Axes>"
      ]
     },
     "metadata": {},
     "output_type": "display_data"
    }
   ],
   "source": [
    "def distance_travelled_analysis(df):\n",
    "    distance_data = df[['route_name', 'ferry_name', 'distance_outbound_nm', 'distance_inbound_nm']].copy() # Added .copy() to avoid SettingWithCopyWarning\n",
    "\n",
    "    # Drop null values\n",
    "    distance_data = distance_data.dropna()\n",
    "\n",
    "    # Calculate the average distance for each leg (outbound and inbound)\n",
    "    distance_by_route_ferry = distance_data.groupby(['route_name', 'ferry_name'])[['distance_outbound_nm', 'distance_inbound_nm']].mean().reset_index()\n",
    "\n",
    "    # Calculate the overall average distance for each route and ferry\n",
    "    distance_by_route_ferry['average_distance_nm'] = (distance_by_route_ferry['distance_outbound_nm'] + distance_by_route_ferry['distance_inbound_nm']) / 2\n",
    "\n",
    "    # Group by route_name and calculate the mean of the overall average distance\n",
    "    average_distance_by_route = distance_by_route_ferry.groupby('route_name')['average_distance_nm'].mean().reset_index()\n",
    "\n",
    "    # Find the route with the highest average distance\n",
    "    route_with_highest_distance = average_distance_by_route.loc[average_distance_by_route['average_distance_nm'].idxmax()]\n",
    "\n",
    "    print(f\"The route with the highest average distance travelled is: {route_with_highest_distance['route_name']} with an average distance of {route_with_highest_distance['average_distance_nm']:.2f} NM.\")\n",
    "\n",
    "    distance_by_route_ferry_melted = distance_by_route_ferry.melt(\n",
    "        id_vars=['route_name', 'ferry_name'],\n",
    "        value_vars=['distance_outbound_nm', 'distance_inbound_nm'],\n",
    "        var_name='direction',\n",
    "        value_name='average_distance_nm_leg' # Renamed to avoid confusion\n",
    "    )\n",
    "    print(\"Relevant context\")\n",
    "    print(distance_by_route_ferry_melted.head(10))\n",
    "    plt.figure(figsize=(16, 8))\n",
    "    sns.barplot(\n",
    "        data=distance_by_route_ferry_melted,\n",
    "        x='route_name',\n",
    "        y='average_distance_nm_leg',\n",
    "        hue='direction'\n",
    "    )\n",
    "    plt.xticks(rotation=45, ha='right')\n",
    "    plt.title('Average Distance Travelled by Route and Ferry')\n",
    "    plt.xlabel('Route Name')\n",
    "    plt.ylabel('Average Distance (NM)')\n",
    "    plt.legend(title='Direction')\n",
    "    plt.tight_layout()\n",
    "    plt.show()\n",
    "\n",
    "# Call the function\n",
    "print(\"Correct answer\")\n",
    "distance_travelled_analysis(ferry_data)"
   ]
  },
  {
   "cell_type": "markdown",
   "id": "5fcd458f-82cd-43a0-a4e8-c38265050186",
   "metadata": {},
   "source": [
    "## Q6 What is the average distance travelled on Ljusteröleden?"
   ]
  },
  {
   "cell_type": "code",
   "execution_count": 38,
   "id": "bf16bf42-6ce1-483b-800e-f530a0aa17ab",
   "metadata": {},
   "outputs": [],
   "source": [
    "def average_distance_on_ljusteroleden(df):\n",
    "    ljusteroleden_data = df[df['route_name'] == 'Ljusteröleden'].copy()\n",
    "\n",
    "    if not ljusteroleden_data.empty:\n",
    "        # Calculate the average distance for each trip on Ljusteröleden\n",
    "        ljusteroleden_data['average_trip_distance_nm'] = (\n",
    "            ljusteroleden_data['distance_outbound_nm'] + ljusteroleden_data['distance_inbound_nm']\n",
    "        ) / 2\n",
    "\n",
    "        # Calculate the overall average distance for Ljusteröleden\n",
    "        average_distance = ljusteroleden_data['average_trip_distance_nm'].mean()\n",
    "\n",
    "        print(f\"The average distance travelled on Ljusteröleden is: {average_distance:.2f} NM.\")\n",
    "    else:\n",
    "        print(\"Data for Ljusteröleden not found in the provided DataFrame.\")\n"
   ]
  },
  {
   "cell_type": "code",
   "execution_count": 39,
   "id": "11bd15a3-29ce-4242-a520-770b56ae0bc9",
   "metadata": {},
   "outputs": [
    {
     "name": "stdout",
     "output_type": "stream",
     "text": [
      "The average distance travelled on Ljusteröleden is: 0.57 NM.\n"
     ]
    }
   ],
   "source": [
    "average_distance_on_ljusteroleden(ferry_data)"
   ]
  },
  {
   "cell_type": "markdown",
   "id": "6e0eced6-8bc9-4462-87b9-c97ecf46d693",
   "metadata": {},
   "source": [
    "## Q7 "
   ]
  },
  {
   "cell_type": "code",
   "execution_count": 5,
   "id": "26434c7c-b0e8-428d-9402-55d5e4c36979",
   "metadata": {},
   "outputs": [
    {
     "name": "stdout",
     "output_type": "stream",
     "text": [
      "Processed Demand Data:\n",
      "        route_name ferry_name  hour  departures  cars_outbound  \\\n",
      "0        Aspöleden      Yxlan     0           2             17   \n",
      "1        Aspöleden      Yxlan     3           1              8   \n",
      "2        Aspöleden      Yxlan     5         356            481   \n",
      "3        Aspöleden      Yxlan     6         251           1195   \n",
      "4        Aspöleden      Yxlan     7         351           2832   \n",
      "..             ...        ...   ...         ...            ...   \n",
      "107  Vaxholmsleden       Nina    19         888          18727   \n",
      "108  Vaxholmsleden       Nina    20         668          11462   \n",
      "109  Vaxholmsleden       Nina    21         672           9374   \n",
      "110  Vaxholmsleden       Nina    22         676           6424   \n",
      "111  Vaxholmsleden       Nina    23         677           3700   \n",
      "\n",
      "     trucks_outbound  trucks_with_trailer_outbound  \\\n",
      "0                  3                             0   \n",
      "1                  1                             0   \n",
      "2                 17                            20   \n",
      "3                187                            11   \n",
      "4                527                            21   \n",
      "..               ...                           ...   \n",
      "107              481                             8   \n",
      "108              246                             3   \n",
      "109              169                             8   \n",
      "110              112                             2   \n",
      "111               34                             4   \n",
      "\n",
      "     passenger_car_equivalent_outbound  passenger_car_equivalent_inbound  \n",
      "0                                 24.5                              22.0  \n",
      "1                                 10.5                              23.5  \n",
      "2                                613.5                            6018.5  \n",
      "3                               1712.0                            4394.5  \n",
      "4                               4244.0                            4533.5  \n",
      "..                                 ...                               ...  \n",
      "107                            22278.5                           13159.5  \n",
      "108                            13305.5                           10243.5  \n",
      "109                            12577.5                            6549.0  \n",
      "110                             8036.0                            6221.0  \n",
      "111                             6485.0                            4321.0  \n",
      "\n",
      "[112 rows x 9 columns]\n",
      "------------------------------\n",
      "For the route 'Aspöleden', the morning peak hour (6:00-23:59) with the highest outbound demand is:\n",
      "Hour: 16:00 - 16:59\n",
      "Maximum Passenger Car Equivalent (PCE) during that hour: 7419.5\n"
     ]
    }
   ],
   "source": [
    "import pandas as pd\n",
    "\n",
    "# Assume demand_analysis function remains the same as you provided:\n",
    "def demand_analysis(df):\n",
    "    # Ensure the time_departure column is datetime type and extract the hour\n",
    "    # Making a copy to avoid SettingWithCopyWarning if ferry_data is used elsewhere\n",
    "    df = df.copy()\n",
    "    df['time_departure'] = pd.to_datetime(df['time_departure'], errors='coerce') # Add errors='coerce' for robustness\n",
    "    df.dropna(subset=['time_departure'], inplace=True) # Drop rows where conversion failed\n",
    "    df['hour'] = df['time_departure'].dt.hour\n",
    "\n",
    "    # Aggregate data by 'route_name', 'ferry_name', and 'hour'\n",
    "    demand_by_hour_route = df.groupby(['route_name', 'ferry_name', 'hour']).agg(\n",
    "        # Use 'size' to count the number of departures per hour if needed\n",
    "        departures = ('time_departure', 'size'),\n",
    "        cars_outbound = ('cars_outbound', 'sum'),\n",
    "        trucks_outbound = ('trucks_outbound', 'sum'),\n",
    "        trucks_with_trailer_outbound = ('trucks_with_trailer_outbound', 'sum'),\n",
    "        passenger_car_equivalent_outbound = ('passenger_car_equivalent_outbound', 'sum'),\n",
    "        passenger_car_equivalent_inbound = ('passenger_car_equivalent_inbound', 'sum')\n",
    "    ).reset_index()\n",
    "    return demand_by_hour_route\n",
    "\n",
    "def find_peak_hour_demand(df, route_name, peak_start_hour=7, peak_end_hour=9):\n",
    "    \"\"\"\n",
    "    Identifies the hour with the highest outbound demand (measured by PCE)\n",
    "    on a specific route during peak hours.\n",
    "\n",
    "    Args:\n",
    "        df (pd.DataFrame): DataFrame containing aggregated hourly ferry demand data,\n",
    "                           output of demand_analysis.\n",
    "        route_name (str): The name of the route to analyze.\n",
    "        peak_start_hour (int): The starting hour of the morning peak (inclusive).\n",
    "        peak_end_hour (int): The ending hour of the morning peak (inclusive).\n",
    "\n",
    "    Returns:\n",
    "        tuple: A tuple containing (peak_hour, max_pce_outbound),\n",
    "               or (None, None) if no data is found for the specified criteria.\n",
    "    \"\"\"\n",
    "    # Filter for the specific route and morning peak hours\n",
    "    morning_peak_data = df[\n",
    "        (df['route_name'] == route_name) &\n",
    "        (df['hour'] >= peak_start_hour) &\n",
    "        (df['hour'] <= peak_end_hour)\n",
    "    ].copy() # Use .copy() to avoid potential SettingWithCopyWarning\n",
    "\n",
    "    if morning_peak_data.empty:\n",
    "        print(f\"No data found for route '{route_name}' during hours {peak_start_hour}-{peak_end_hour}.\")\n",
    "        return None, None\n",
    "\n",
    "    # Since data is already aggregated by hour (and potentially ferry, though maybe only one),\n",
    "    # find the row with the maximum outbound PCE within the filtered set.\n",
    "    # idxmax() returns the index of the first occurrence of the maximum value.\n",
    "    idx_max_pce = morning_peak_data['passenger_car_equivalent_outbound'].idxmax()\n",
    "\n",
    "    # Get the corresponding row\n",
    "    peak_hour_data = morning_peak_data.loc[idx_max_pce]\n",
    "\n",
    "    peak_hour = peak_hour_data['hour']\n",
    "    max_pce_outbound = peak_hour_data['passenger_car_equivalent_outbound']\n",
    "\n",
    "    # Optional: You could also return truck demand for that specific hour\n",
    "    # trucks_at_peak = peak_hour_data['trucks_outbound']\n",
    "\n",
    "    return peak_hour, max_pce_outbound\n",
    "\n",
    "\n",
    "# Analyze the demand data\n",
    "demand_data_processed = demand_analysis(ferry_data)\n",
    "print(\"Processed Demand Data:\")\n",
    "print(demand_data_processed)\n",
    "print(\"-\" * 30)\n",
    "\n",
    "# Specify the route you want to analyze\n",
    "selected_route = 'Aspöleden'\n",
    "start_hour = 6\n",
    "end_hour = 23\n",
    "\n",
    "# Find the hour with the highest demand during morning peak hours\n",
    "peak_hour, max_pce = find_peak_hour_demand(demand_data_processed, selected_route, start_hour, end_hour)\n",
    "\n",
    "if peak_hour is not None:\n",
    "    print(f\"For the route '{selected_route}', the peak hour between ({start_hour}:00-{end_hour}:59) with the highest outbound demand is:\")\n",
    "    print(f\"Hour: {peak_hour}:00 - {peak_hour}:59\")\n",
    "    print(f\"Maximum Passenger Car Equivalent (PCE) during that hour: {max_pce}\")\n",
    "else:\n",
    "    print(f\"Could not determine the peak hour for route '{selected_route}' during the specified times.\")"
   ]
  },
  {
   "cell_type": "code",
   "execution_count": null,
   "id": "630ee5ed-14d6-4eb3-9b91-aaec7253f6a5",
   "metadata": {},
   "outputs": [],
   "source": []
  }
 ],
 "metadata": {
  "kernelspec": {
   "display_name": "venv",
   "language": "python",
   "name": "venv"
  },
  "language_info": {
   "codemirror_mode": {
    "name": "ipython",
    "version": 3
   },
   "file_extension": ".py",
   "mimetype": "text/x-python",
   "name": "python",
   "nbconvert_exporter": "python",
   "pygments_lexer": "ipython3",
   "version": "3.9.6"
  }
 },
 "nbformat": 4,
 "nbformat_minor": 5
}
